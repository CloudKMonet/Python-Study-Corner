{
 "cells": [
  {
   "cell_type": "markdown",
   "id": "7b463799",
   "metadata": {},
   "source": [
    "## Counting Sheep App\n",
    "\n",
    "This is an upgraded version. I wanted to add different type of sheep for the user's personal pick, then I kept the loop the same for the simulated counting, but this time it counts whatever sheep the user picked from the selection. I also went back to my previous c sharp code and translated it over so this app follows the c sharp version exactly... just in Python :P"
   ]
  },
  {
   "cell_type": "code",
   "execution_count": null,
   "id": "609e5d63",
   "metadata": {},
   "outputs": [],
   "source": [
    "#This is the old version of the code.\n",
    "#time is imported because of the logic for the simulated count\n",
    "import time\n",
    "\n",
    "#Welcome message.\n",
    "print(\"Welcome! TO THE SHEEP COUNTER!... :D\")\n",
    "\n",
    "#Ask the user to input the amount of sheep they count before bed?\n",
    "num = input (\"Now... How many sheep would you count before bed?\")\n",
    "\n",
    "#logic in the form of an if else- if the user input number is in range, then count the number.\n",
    "if num.isdigit():\n",
    "    num = int(num)\n",
    "    for i in range(1, num + 1):\n",
    "        print(f\"{i} sheep...\")\n",
    "        # seconds between each count before it continues to 'count'\n",
    "        time.sleep(0.5) \n",
    "        print(\"... zZZzzz\")\n",
    "        \n",
    "        #The else statement is supposed to appear if no user input for a number or appropriate value.\n",
    "    else:\n",
    "        print(\"Woops. You uh... you gotta enter a number- like a VALID number.\")"
   ]
  },
  {
   "cell_type": "code",
   "execution_count": 7,
   "id": "5aa4f100",
   "metadata": {},
   "outputs": [
    {
     "name": "stdout",
     "output_type": "stream",
     "text": [
      "Welcome! TO THE SHEEP COUNTER!... :D\n",
      "What is your favorite sheep from this list (babydoll, blacknose, or ryeland sheep)? ryeland\n",
      "Here is the sheep you chose: Ryeland Sheep\n",
      "Thank you! Now... for double checking purposes- you do actually count sheep before you go to bed? (type: yes/no) yes\n",
      "Now... How many sheep would you count before bed? 4\n",
      "1, ryeland sheep...\n",
      "... zZZzzz\n",
      "2, ryeland sheep...\n",
      "... zZZzzz\n",
      "3, ryeland sheep...\n",
      "... zZZzzz\n",
      "4, ryeland sheep...\n",
      "... zZZzzz\n"
     ]
    }
   ],
   "source": [
    "#This is the upgraded version.\n",
    "#time is imported because of the logic for the simulated count\n",
    "import time\n",
    "\n",
    "#Welcome message.\n",
    "print(\"Welcome! TO THE SHEEP COUNTER!... :D\")\n",
    "\n",
    "sheep_type = {\n",
    "    \"babydoll\": \"Babydoll Southdown\",\n",
    "    \"blacknose\": \"Valais Blacknose\",\n",
    "    \"ryeland\": \"Ryeland Sheep\",\n",
    "}\n",
    "\n",
    "#Ask the user to pick what sheep they like.\n",
    "sheep = input (\"What is your favorite sheep from this list (babydoll, blacknose, or ryeland sheep)? \").lower()\n",
    "#Logic for the sheep the user chooses.\n",
    "if sheep in sheep_type:\n",
    "    print(f\"Here is the sheep you chose: {sheep_type[sheep]}\")\n",
    "else:\n",
    "    print(\"By default we assume you count: Cloud Dream Sheep... But we just say 'sheep'. :D \")\n",
    "\n",
    "#From my C sharp code I had a section to double check the user wants to use the app before initaitaing the logic for the counting sheep loop.\n",
    "response = input(\"Thank you! Now... for double checking purposes- you do actually count sheep before you go to bed? (type: yes/no) \")\n",
    "\n",
    "if response == \"yes\":\n",
    "    try:\n",
    "        #Now ask the user how many sheep do they end up counting before they go to bed?\n",
    "        num = input (\"Now... How many sheep would you count before bed? \")\n",
    "        \n",
    "        #logic for the sheep counter: if the user input number is in range, then count the number.\n",
    "        if num.isdigit():\n",
    "            num = int(num)\n",
    "            for i in range(1, num + 1):\n",
    "                print(f\"{i}, {sheep} sheep...\")\n",
    "                # seconds between each count before it continues to 'count'\n",
    "                time.sleep(0.5) \n",
    "                print(\"... zZZzzz\")\n",
    "                \n",
    "    except ValueError:\n",
    "            print(\"Somethng went wrong counting sheep... maybe you forgot a midnight snack? Or something??\")\n",
    "else:\n",
    "    print(\"Uhmm.. This app?? might not be for you- 😂. Have a good night's sleep... without the sheep!\")"
   ]
  }
 ],
 "metadata": {
  "kernelspec": {
   "display_name": "Python 3 (ipykernel)",
   "language": "python",
   "name": "python3"
  },
  "language_info": {
   "codemirror_mode": {
    "name": "ipython",
    "version": 3
   },
   "file_extension": ".py",
   "mimetype": "text/x-python",
   "name": "python",
   "nbconvert_exporter": "python",
   "pygments_lexer": "ipython3",
   "version": "3.9.13"
  }
 },
 "nbformat": 4,
 "nbformat_minor": 5
}
