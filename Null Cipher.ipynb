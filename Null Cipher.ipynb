{
 "cells": [
  {
   "cell_type": "markdown",
   "id": "4e206413",
   "metadata": {},
   "source": [
    "#  Null Cipher with Python!\n",
    "\n",
    "This goal of this project is to hide a null cipher within a list of words. Because a key thing about lists is that the context is what usually matters. You wouldn't expect a shopping list to make particular sense would you? So! For this fun project- I'll use the list to be the boat the code is hitching a ride on- except the boat is broken up into a boating parade, and each boat has a different piece of the the message."
   ]
  },
  {
   "cell_type": "markdown",
   "id": "aa88d4f7",
   "metadata": {},
   "source": [
    "## First We Add the Libraries"
   ]
  },
  {
   "cell_type": "code",
   "execution_count": 2,
   "id": "a570be4a",
   "metadata": {},
   "outputs": [],
   "source": [
    "from random import randint\n",
    "import string\n",
    "\n",
    "# I created my own textfile full of words manually- mostly because I could but also because I wanted to try routing to a text file."
   ]
  },
  {
   "cell_type": "code",
   "execution_count": 19,
   "id": "924c4beb",
   "metadata": {},
   "outputs": [
    {
     "name": "stdout",
     "output_type": "stream",
     "text": [
      "I \n",
      "\n",
      "Is \n",
      "\n",
      "Ise \n",
      "\n",
      "Isee \n",
      "\n",
      "Iseey \n",
      "\n",
      "Iseeyo \n",
      "\n",
      "Iseeyou \n",
      "\n"
     ]
    }
   ],
   "source": [
    "# write a short message that doesn't contain punctuation or numbers! This is the example, without hiding the message.\n",
    "input_message = \"I see you\"\n",
    "\n",
    "message = ''\n",
    "for char in input_message:\n",
    "    if char in string.ascii_letters:\n",
    "        message += char\n",
    "        print(message, \"\\n\")\n",
    "message = \"\".join(message.split())"
   ]
  },
  {
   "cell_type": "code",
   "execution_count": 27,
   "id": "7df1995e",
   "metadata": {},
   "outputs": [
    {
     "name": "stdout",
     "output_type": "stream",
     "text": [
      "Vocabulary Words for the test on Tuesday: \n",
      "\n",
      "google\n",
      "character\n",
      "lemongrass\n",
      "practical\n"
     ]
    }
   ],
   "source": [
    "#open the text file\n",
    "with open(\"words_Random\", \"r\") as file:\n",
    "    words_Random = [line.strip().lower() for line in file]\n",
    "\n",
    "#build a \"vocab\" list to hide the message in!\n",
    "message = \"look\".lower()\n",
    "vocab_list = [] \n",
    "\n",
    "#loop thorugh each letter in the message\n",
    "for letter in message: \n",
    "    size = randint(6,10)\n",
    "    for word in words_Random:\n",
    "            if len(word) == size and word[2].lower()\\\n",
    "            and word not in vocab_list:\n",
    "                vocab_list.append(word)\n",
    "                break\n",
    "            \n",
    "#Display on a new line each time vertically\n",
    "if len(vocab_list) < len(message):\n",
    "    print(\"Word List is too small. Try larger dictionary or shorter message!\")\n",
    "else:\n",
    "        print(\"Vocabulary Words for the test on Tuesday: \\n\", *vocab_list, sep=\"\\n\")"
   ]
  }
 ],
 "metadata": {
  "kernelspec": {
   "display_name": "Python 3 (ipykernel)",
   "language": "python",
   "name": "python3"
  },
  "language_info": {
   "codemirror_mode": {
    "name": "ipython",
    "version": 3
   },
   "file_extension": ".py",
   "mimetype": "text/x-python",
   "name": "python",
   "nbconvert_exporter": "python",
   "pygments_lexer": "ipython3",
   "version": "3.9.13"
  }
 },
 "nbformat": 4,
 "nbformat_minor": 5
}
