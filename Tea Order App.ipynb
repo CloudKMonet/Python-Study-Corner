{
 "cells": [
  {
   "cell_type": "markdown",
   "id": "5c6fa9e5",
   "metadata": {},
   "source": [
    "# Order Tea!\n",
    "This is a python code project that I just keep finding new things to add too. The current thing is that I wanted to have the user be able to choose to give a tip, as well as give a tea suggestion. I put the old code in here to reflect on how some simple tweaks can change the vibe of the entire app. "
   ]
  },
  {
   "cell_type": "code",
   "execution_count": 1,
   "id": "d590d450",
   "metadata": {},
   "outputs": [
    {
     "name": "stdout",
     "output_type": "stream",
     "text": [
      "Welcome to the One Stop Tea Shop Vibe Spot- we go by vibes here. Obviously. :D\n",
      "What kind of vibe are you in today? (relaxed, focused, energized, cozy, moody): focused\n",
      "Here's your blend: A matcha and lemongrass tea blend. That'll be $4.50.\n"
     ]
    }
   ],
   "source": [
    "#Here is the Previous code:\n",
    "#Also the tea menu is an array! Also, as of 8/6/2025, I added prices to the menu. \n",
    "tea_menu = {\n",
    "    \"relaxed\": \"A chamomile and lavender tea blend. That'll be $3.40.\",\n",
    "    \"focused\": \"A matcha and lemongrass tea blend. That'll be $4.50.\",\n",
    "    \"energized\": \"A ginger, peach, and green tea blend. That'll be $2.50.\",\n",
    "    \"cozy\": \"A cinnamon and roobios tea blend. That'll be $3.00.\",\n",
    "    \"moody\": \"An earl grey with rose petal tea blend. That'll be $4.00\",\n",
    "}\n",
    "\n",
    "#Welcome message to the tea shop of vibes.\n",
    "print(\"Welcome to the One Stop Tea Shop Vibe Spot- we go by vibes here. Obviously. :D\")\n",
    "\n",
    "#Encourage our user to input their vibe from the list which contains the tea menu's vibes and associated tea blends.\n",
    "vibe = input(\"What kind of vibe are you in today? (relaxed, focused, energized, cozy, moody): \").lower()\n",
    "\n",
    "#Logic processing- if the vibe is in the menu, then print out the blend from the menu; otherwise print the else statement!\n",
    "if vibe in tea_menu:\n",
    "    print(f\"Here's your blend: {tea_menu[vibe]}\")\n",
    "else:\n",
    "    print(\"I'm sorry- we don't have a blend for that...yet >:D... Try something one the menu currently?\")"
   ]
  },
  {
   "cell_type": "code",
   "execution_count": 2,
   "id": "180ee142",
   "metadata": {},
   "outputs": [
    {
     "name": "stdout",
     "output_type": "stream",
     "text": [
      "Welcome to the One Stop Tea Shop Vibe Spot- we go by vibes here. Obviously. :D\n",
      "What kind of vibe are you in today? (relaxed, focused, energized, cozy, moody): focused\n",
      "Here's your blend: ('A matcha and lemongrass tea blend', 4.5)\n",
      "Would you like to leave a tip? (Type: yes or no): yes\n",
      "Ok! And how much would you like to tip? $1\n",
      "Thank you very much! Your tip of $1.00 has been added! :D\n",
      "Did you have a tea suggestion for our menu? (Type: yes or no) yes\n",
      "What would you pair your tea blend with? (some examples: cheerful, silly, mindful):  mindful\n",
      "What would be the tea blend? (some examples: chai, oolong, kombucha)oolong\n",
      "What would you price your the tea suggestion? $3\n",
      "That sounds lovely. So lovely- we'll add oolong ($3.00) with the vibe mindful to the menu!\n",
      "\n",
      "Thank you very much! Your total is $5.50! :D\n",
      "\n",
      "Here is the updated Tea Menu: \n",
      "Relaxed: A chamomile and lavender tea blend - $3.40\n",
      "Focused: A matcha and lemongrass tea blend - $4.50\n",
      "Energized: A ginger, peach, and green tea blend - $2.50\n",
      "Cozy: A cinnamon and roobios tea blend - $3.00\n",
      "Moody: An earl grey with rose petal tea blend - $4.00\n",
      "Mindful: oolong - $3.00\n"
     ]
    }
   ],
   "source": [
    "#Here is the newer code as of 8/28/2025:\n",
    "\n",
    "tea_menu = {\n",
    "    \"relaxed\": (\"A chamomile and lavender tea blend\", 3.4),\n",
    "    \"focused\": (\"A matcha and lemongrass tea blend\", 4.5),\n",
    "    \"energized\": (\"A ginger, peach, and green tea blend\", 2.5),\n",
    "    \"cozy\": (\"A cinnamon and roobios tea blend\", 3.0),\n",
    "    \"moody\": (\"An earl grey with rose petal tea blend\", 4.0)\n",
    "}\n",
    "\n",
    "#Welcome message to the tea shop of vibes.\n",
    "print(\"Welcome to the One Stop Tea Shop Vibe Spot- we go by vibes here. Obviously. :D\")\n",
    "\n",
    "vibe = input(\"What kind of vibe are you in today? (relaxed, focused, energized, cozy, moody): \").lower()\n",
    "\n",
    "if vibe in tea_menu:\n",
    "    drink, price = tea_menu[vibe]\n",
    "    print(f\"Here's your blend: {tea_menu[vibe]}\")\n",
    "    total = price\n",
    "else:\n",
    "    print(\"I'm sorry- we don't have a blend for that...yet >:D... Try something one the menu currently?\")\n",
    "    total = 0.0\n",
    "    \n",
    "#Ask the user if they'd like to make a tip.\n",
    "tip_choice = input(\"Would you like to leave a tip? (Type: yes or no): \").lower()\n",
    "if tip_choice == \"yes\":\n",
    "    try: \n",
    "        tip = float(input(\"Ok! And how much would you like to tip? $\"))\n",
    "        total += tip \n",
    "        print(f\"Thank you very much! Your tip of ${tip:.2f} has been added! :D\")\n",
    "    except ValueError:\n",
    "        print(\"There seems to be an issue with adding the input tip-? So, we'll just skip the tip.\")\n",
    "else: \n",
    "    print(\"No worries about tipping, your visit is still deeply appreciated either way!\")\n",
    "    \n",
    "#Ask Customer if they have any new mood + tea blend suggestions- also let them set the new suggestion tea's price.\n",
    "suggestion_input = input(\"Did you have a tea suggestion for our menu? (Type: yes or no) \").lower()\n",
    "if suggestion_input == \"yes\":\n",
    "    new_vibe = input(\"What would you pair your tea blend with? (some examples: cheerful, silly, mindful):  \").lower()\n",
    "    new_drink = input(\"What would be the vibe of the new tea blend? (some examples: chai, oolong, kombucha)\")\n",
    "    try:\n",
    "        new_price = float(input(\"What would you price your the tea suggestion? $\"))\n",
    "        tea_menu[new_vibe] = (new_drink, new_price)\n",
    "        print(f\"That sounds lovely. So lovely- we'll add {new_drink} (${new_price:.2f}) with the vibe {new_vibe} to the menu!\")\n",
    "    except ValueError:\n",
    "        print(\"Whoops- seems we have an issue with the price entered- we won't be able to add this suggestion to our menu.\")\n",
    "else:\n",
    "    print(\"No Suggestion? No problem! Thank you for visiting us!\")\n",
    "    \n",
    "#Show the total bill.\n",
    "print(f\"\\nThank you very much! Your total is ${total:.2f}! :D\")\n",
    "    \n",
    "#Show the new menu including the customer's suggestion.\n",
    "print(\"\\nHere is the updated Tea Menu: \")\n",
    "for vibe, (drink, price) in tea_menu.items():\n",
    "    print(f\"{vibe.title()}: {drink} - ${price:.2f}\")\n"
   ]
  },
  {
   "cell_type": "code",
   "execution_count": null,
   "id": "09873fac",
   "metadata": {},
   "outputs": [],
   "source": []
  }
 ],
 "metadata": {
  "kernelspec": {
   "display_name": "Python 3 (ipykernel)",
   "language": "python",
   "name": "python3"
  },
  "language_info": {
   "codemirror_mode": {
    "name": "ipython",
    "version": 3
   },
   "file_extension": ".py",
   "mimetype": "text/x-python",
   "name": "python",
   "nbconvert_exporter": "python",
   "pygments_lexer": "ipython3",
   "version": "3.9.13"
  }
 },
 "nbformat": 4,
 "nbformat_minor": 5
}
