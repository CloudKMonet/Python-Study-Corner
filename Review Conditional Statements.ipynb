{
 "cells": [
  {
   "cell_type": "markdown",
   "id": "ffe18859",
   "metadata": {},
   "source": [
    "# Let's Review Conditional statements in python!\n"
   ]
  },
  {
   "cell_type": "markdown",
   "id": "6462dd8b",
   "metadata": {},
   "source": [
    "I'll try writing a program that will take a variable called number (num) and return that the number (num) is less than 0 when it is negative and more than 20 when it is larger than 20. Any number (num) from 0 to 20 should not return anthing. This is a quick warm up for how we can use float in python!"
   ]
  },
  {
   "cell_type": "code",
   "execution_count": null,
   "id": "af999bdd",
   "metadata": {},
   "outputs": [],
   "source": [
    "numb=float(input(\"Please input a number: \"))\n",
    "if numb < 0:\n",
    "    print('That number is less than 0. ')\n",
    "elif numb > 20:\n",
    "    print('That number is larger than 20. ')\n",
    "else:\n",
    "    print('Any number from 0 to 20 should not return anything.')"
   ]
  },
  {
   "cell_type": "markdown",
   "id": "3bed7a23",
   "metadata": {},
   "source": [
    "### Next... Let's do an employee's payment calculator.\n",
    "It will take an employees hours (emp_hours) worked as a variable. If they work for 40 hours or less, then the hourly rate is 20.00 dollars. If an employee works more than 40 hours the rate is 30.50 dollars"
   ]
  },
  {
   "cell_type": "code",
   "execution_count": null,
   "id": "f24cbdf4",
   "metadata": {},
   "outputs": [],
   "source": [
    "emp_hours=float(input(\"Hello, please input your hours: \"))\n",
    "if emp_hours <= 40:\n",
    "    hourly = (40 * 20)\n",
    "    print(hourly)\n",
    "elif emp_hours >= 40:\n",
    "    over = (40 * 30.50)\n",
    "    print(over)"
   ]
  },
  {
   "cell_type": "markdown",
   "id": "9409a10e",
   "metadata": {},
   "source": [
    "But what if- for the previous code- we decide that the employee's boss made an error. That, the  employees should get paid  25.00 dollars for all hours less than or equal to 40. They get time and a half for clocking in more than 40 hours of work. "
   ]
  },
  {
   "cell_type": "code",
   "execution_count": null,
   "id": "03094e23",
   "metadata": {},
   "outputs": [],
   "source": [
    "emp_hours=float(input(\"Hello, please enter the numbers of hours you worked: \"))\n",
    "if emp_hours <= 40:\n",
    "    hourly = 40 * 25.00\n",
    "    print(hourly)\n",
    "elif emp_hours > 40:\n",
    "    over = 40 * 30.50\n",
    "    print(float(over))"
   ]
  },
  {
   "cell_type": "markdown",
   "id": "68f140fc",
   "metadata": {},
   "source": [
    "Now, that seems cool. But it's still mmissing user input- I generally like to ask for it and since this is a calculator... We should use that here! Let's allow the employees to input the hours they worked AND the hourly rate!.. We're doing an overtime calculator."
   ]
  },
  {
   "cell_type": "code",
   "execution_count": 7,
   "id": "7c3c8b4d",
   "metadata": {},
   "outputs": [
    {
     "name": "stdout",
     "output_type": "stream",
     "text": [
      "Hello, please enter the numbers of hours you worked: 45\n",
      "Hello, please enter the hourly rate: $2.30\n",
      "Here are your earnings $1011.500000\n"
     ]
    }
   ],
   "source": [
    "emp_hours=float(input(\"Hello, please enter the numbers of hours you worked: \"))\n",
    "emp_rate=float(input(\"Hello, please enter the hourly rate: $\"))\n",
    "\n",
    "base_rate = 25.00\n",
    "\n",
    "if emp_hours <= 40:\n",
    "    total = emp_hours * emp_rate\n",
    "    print(f\"Here are your earnings ${total:2f}\")\n",
    "else:\n",
    "    overtime_hours = emp_hours - 40\n",
    "    total = (40 * base_rate) + (overtime_hours * emp_rate)\n",
    "    print(f\"Here are your earnings ${total:2f}\")"
   ]
  },
  {
   "cell_type": "markdown",
   "id": "05346a02",
   "metadata": {},
   "source": [
    "## A Summary:\n",
    "Using float in calculators like this make the most sense, as they almost always involve decimals- we are dealing with money afterall. Without float we'd lose the precision and in a real life scenario this would mean that employees are getting underpaid without a proper calculation being run through their time sheets. There is an issue with float, and that is the rounding error you see above.To get good use out of the calculator, you'd use the decimal.Decimal from Python's decimal module aka: \n",
    "\n",
    "from decimal import Decimal\n",
    "\n",
    "Thank you for reading! Please try these out on your own variables."
   ]
  }
 ],
 "metadata": {
  "kernelspec": {
   "display_name": "Python 3 (ipykernel)",
   "language": "python",
   "name": "python3"
  },
  "language_info": {
   "codemirror_mode": {
    "name": "ipython",
    "version": 3
   },
   "file_extension": ".py",
   "mimetype": "text/x-python",
   "name": "python",
   "nbconvert_exporter": "python",
   "pygments_lexer": "ipython3",
   "version": "3.9.13"
  }
 },
 "nbformat": 4,
 "nbformat_minor": 5
}
