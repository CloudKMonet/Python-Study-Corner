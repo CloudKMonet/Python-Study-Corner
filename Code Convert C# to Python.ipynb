{
 "cells": [
  {
   "cell_type": "markdown",
   "id": "b4d6169f",
   "metadata": {},
   "source": [
    "# This is a code conversion! \n",
    "### I have some C# projects that match the codes in here. Not fully- since instead of coffee we pick tea."
   ]
  },
  {
   "cell_type": "code",
   "execution_count": 14,
   "id": "28a3b907",
   "metadata": {},
   "outputs": [
    {
     "name": "stdout",
     "output_type": "stream",
     "text": [
      "Welcome! TO THE SHEEP COUNTER!... :D\n",
      "Now... How many sheep would you count before bed?3\n",
      "1 sheep...\n",
      "... zZZzzz\n",
      "2 sheep...\n",
      "... zZZzzz\n",
      "3 sheep...\n",
      "... zZZzzz\n",
      "Woops. You uh... you gotta enter a number- like a VALID number.\n"
     ]
    }
   ],
   "source": [
    "#time import because of the second before each count\n",
    "import time\n",
    "\n",
    "#Welcome message\n",
    "print(\"Welcome! TO THE SHEEP COUNTER!... :D\")\n",
    "\n",
    "#invite user input\n",
    "num = input (\"Now... How many sheep would you count before bed?\")\n",
    "\n",
    "#logic in the form of an if else- if the user input number is in range, then count the number.\n",
    "if num.isdigit():\n",
    "    num = int(num)\n",
    "    for i in range(1, num + 1):\n",
    "        print(f\"{i} sheep...\")\n",
    "        # seconds between each count before it continues to 'count'\n",
    "        time.sleep(0.5) \n",
    "        print(\"... zZZzzz\")\n",
    "        #The else statement is supposed to appear if no user input for a number or appropriate value.\n",
    "    else:\n",
    "        print(\"Woops. You uh... you gotta enter a number- like a VALID number.\")"
   ]
  },
  {
   "cell_type": "code",
   "execution_count": 2,
   "id": "cf21ac2b",
   "metadata": {},
   "outputs": [
    {
     "name": "stdout",
     "output_type": "stream",
     "text": [
      "Welcome to the One Stop Tea Shop Vibe Spot- we go by vibes here. Obviously. :D\n",
      "What kind of vibe are you in today? (relaxed, focused, energized, cozy, moody): lively\n",
      "I'm sorry- we don't have a blend for that...yet >:D... Try something one the menu currently?\n"
     ]
    }
   ],
   "source": [
    "#the tea menu is an array! :D\n",
    "tea_menu = {\n",
    "    \"relaxed\": \"chamomile + lavener\",\n",
    "    \"focused\": \"matcha + lemongrass\",\n",
    "    \"energized\": \"ginger + peach + green Tea\",\n",
    "    \"cozy\": \"cinnamon + roobios\",\n",
    "    \"moody\": \"earl grey + rose\",\n",
    "}\n",
    "\n",
    "#Welcome message to the tea shop of vibes\n",
    "print(\"Welcome to the One Stop Tea Shop Vibe Spot- we go by vibes here. Obviously. :D\")\n",
    "\n",
    "#encourage the user to input their vibe from the list which contains the tea menu's vibes and associated tea blends\n",
    "vibe = input(\"What kind of vibe are you in today? (relaxed, focused, energized, cozy, moody): \").lower()\n",
    "\n",
    "#logic processing- if the vibe is in the menure, then print out the blend from the menu, otherwise the else statement!\n",
    "if vibe in tea_menu:\n",
    "    print(f\"Here's your blend: {tea_menu[vibe]}\")\n",
    "else:\n",
    "    print(\"I'm sorry- we don't have a blend for that...yet >:D... Try something one the menu currently?\")"
   ]
  },
  {
   "cell_type": "markdown",
   "id": "b6a8709b",
   "metadata": {},
   "source": [
    "## Some Things...\n",
    "\n",
    "To reflect, these two projects were intitally done in c#, I just wanted to do a version in python. The tea menu is different from the coffee app, but the idea was mostly to make a container and have the user select an option from the container. C# is a very structured language while python holds the advantage in being very fast and easy to use. I will say, I ran into problems with remebering the case sensitivities between python and c#. But! I got the basics done in this. If I were to continue to adjust and update the code in the future, I think a good addtion is potentially adding more user input into the tea menu- like maybe the user has an idea for a custom tea order for the barista. For the Counting Sheep, it needs to not print that else statement, and maybe even have the types of sheep the user sees as they count and fall asleep is a selction like an array. Overall, very fun!"
   ]
  },
  {
   "cell_type": "code",
   "execution_count": null,
   "id": "6596f7cd",
   "metadata": {},
   "outputs": [],
   "source": []
  }
 ],
 "metadata": {
  "kernelspec": {
   "display_name": "Python 3 (ipykernel)",
   "language": "python",
   "name": "python3"
  },
  "language_info": {
   "codemirror_mode": {
    "name": "ipython",
    "version": 3
   },
   "file_extension": ".py",
   "mimetype": "text/x-python",
   "name": "python",
   "nbconvert_exporter": "python",
   "pygments_lexer": "ipython3",
   "version": "3.9.13"
  }
 },
 "nbformat": 4,
 "nbformat_minor": 5
}
