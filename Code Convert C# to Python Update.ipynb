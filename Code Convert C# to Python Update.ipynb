{
 "cells": [
  {
   "cell_type": "markdown",
   "id": "b4d6169f",
   "metadata": {},
   "source": [
    "# This is a code conversion! \n",
    "#### I have some mini console C# projects that match the codes found in here. Not fully, since, instead of a coffee order its a tea order app."
   ]
  },
  {
   "cell_type": "code",
   "execution_count": 7,
   "id": "28a3b907",
   "metadata": {},
   "outputs": [
    {
     "name": "stdout",
     "output_type": "stream",
     "text": [
      "Welcome! TO THE SHEEP COUNTER!... :D\n",
      "Now... How many sheep would you count before bed?4\n",
      "1 sheep...\n",
      "... zZZzzz\n"
     ]
    }
   ],
   "source": [
    "#time import because of the second before each count\n",
    "import time\n",
    "\n",
    "#Welcome message.\n",
    "print(\"Welcome! TO THE SHEEP COUNTER!... :D\")\n",
    "\n",
    "#Ask the user to input the amount of sheep they count before bed?\n",
    "num = input (\"Now... How many sheep would you count before bed?\")\n",
    "\n",
    "#logic in the form of an if else- if the user input number is in range, then count the number.\n",
    "if num.isdigit():\n",
    "    num = int(num)\n",
    "    for i in range(1, num + 1):\n",
    "        print(f\"{i} sheep...\")\n",
    "        # seconds between each count before it continues to 'count'\n",
    "        time.sleep(0.5) \n",
    "        print(\"... zZZzzz\")\n",
    "        \n",
    "        #The else statement is supposed to appear if no user input for a number or appropriate value.\n",
    "    else:\n",
    "        print(\"Woops. You uh... you gotta enter a number- like a VALID number.\")"
   ]
  },
  {
   "cell_type": "code",
   "execution_count": 4,
   "id": "cf21ac2b",
   "metadata": {},
   "outputs": [
    {
     "name": "stdout",
     "output_type": "stream",
     "text": [
      "Welcome to the One Stop Tea Shop Vibe Spot- we go by vibes here. Obviously. :D\n",
      "What kind of vibe are you in today? (relaxed, focused, energized, cozy, moody): cozy\n",
      "Here's your blend: A cinnamon and roobios tea blend. That'll be $3.00.\n"
     ]
    }
   ],
   "source": [
    "#The tea menu is an array! Also, as of 8/6/2025, I added prices to the menu. \n",
    "tea_menu = {\n",
    "    \"relaxed\": \"A chamomile and lavender tea blend. That'll be $3.40.\",\n",
    "    \"focused\": \"A matcha and lemongrass tea blend. That'll be $4.50.\",\n",
    "    \"energized\": \"A ginger, peach, and green tea blend. That'll be $2.50.\",\n",
    "    \"cozy\": \"A cinnamon and roobios tea blend. That'll be $3.00.\",\n",
    "    \"moody\": \"An earl grey with rose petal tea blend. That'll be $4.00\",\n",
    "}\n",
    "\n",
    "#Welcome message to the tea shop of vibes.\n",
    "print(\"Welcome to the One Stop Tea Shop Vibe Spot- we go by vibes here. Obviously. :D\")\n",
    "\n",
    "#Encourage our user to input their vibe from the list which contains the tea menu's vibes and associated tea blends.\n",
    "vibe = input(\"What kind of vibe are you in today? (relaxed, focused, energized, cozy, moody): \").lower()\n",
    "\n",
    "#Logic processing- if the vibe is in the menu, then print out the blend from the menu; otherwise print the else statement!\n",
    "if vibe in tea_menu:\n",
    "    print(f\"Here's your blend: {tea_menu[vibe]}\")\n",
    "else:\n",
    "    print(\"I'm sorry- we don't have a blend for that...yet >:D... Try something one the menu currently?\")"
   ]
  },
  {
   "cell_type": "markdown",
   "id": "b6a8709b",
   "metadata": {},
   "source": [
    "## Some Things...\n",
    "\n",
    "Reflecting on these two projects- I can say that despite being intitally done in c#- the python versions worked as intended. The tea menu is different from the coffee app since it's based on vibes; but the idea, which was mostly to make a container and have the user select an option from the container, was very sucessful. C# is a very structured language while python holds the advantage in being very fast and easy to use. Another thing I will say is, that, when translating between the codes- I ran into problems with remebering the case sensitivity difference between python and c#. I added some prices to the tea menu, but I'll leave any new update for the sheep counter for another time."
   ]
  }
 ],
 "metadata": {
  "kernelspec": {
   "display_name": "Python 3 (ipykernel)",
   "language": "python",
   "name": "python3"
  },
  "language_info": {
   "codemirror_mode": {
    "name": "ipython",
    "version": 3
   },
   "file_extension": ".py",
   "mimetype": "text/x-python",
   "name": "python",
   "nbconvert_exporter": "python",
   "pygments_lexer": "ipython3",
   "version": "3.9.13"
  }
 },
 "nbformat": 4,
 "nbformat_minor": 5
}
